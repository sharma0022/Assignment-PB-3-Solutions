{
 "cells": [
  {
   "cell_type": "markdown",
   "id": "c80fa48d",
   "metadata": {},
   "source": [
    "# Assignment 3 Solution"
   ]
  },
  {
   "cell_type": "raw",
   "id": "76d6d7fe",
   "metadata": {},
   "source": [
    "Q.1. Why are functions advantageous to have in your programs?\n",
    "\n",
    "Ans: Code reuse: Functions allow to reuse code in multiple places within our program.                  Instead of duplicating the same code multiple times, we can define it once in a function          and call the function whenever we need it. This makes our code more efficient and easier          to maintain.\n",
    "\n",
    "     Improved readability: Functions can help to improve the readability of our code by breaking      it down into smaller, self-contained units. This can make it easier to understand what our        code is doing and how it is structured.\n",
    "\n",
    "     Better organization: Functions allow to organize our code into logical blocks that                perform specific tasks. This can help to make our code more organized and easier to              understand.\n",
    "\n",
    "     Debugging: Functions can make debugging our code easier because we can isolate and test          specific parts of our code by calling the relevant functions. This can make it easier to          identify and fix any issues with our code.\n",
    "\n",
    "     Modularity: Functions allow to break our code into modular pieces that can be used and            tested independently. This can make it easier to update and maintain our code over time."
   ]
  },
  {
   "cell_type": "raw",
   "id": "7c984196",
   "metadata": {},
   "source": [
    "Q.2. When does the code in a function run: when it's specified or when it's called?\n",
    "\n",
    "Ans: The code in a function runs when the function is called, not when it is specified."
   ]
  },
  {
   "cell_type": "raw",
   "id": "1ca95651",
   "metadata": {},
   "source": [
    "Q.3. What statement creates a function?\n",
    "\n",
    "Ans: The \"def\" keyword is used to create a function.\n",
    "\n",
    "     Here is an example of a function definition,\n",
    "\n",
    "        def greet():\n",
    "        print(\"Hello, World!\")\n",
    "\n",
    "    This function, named \"greet\", has a single line of code that prints \"Hello, World!\" to the       console.\n",
    "\n",
    "    To call the function and run the code inside it, you would use the function name followed by     a set of parentheses:\n",
    "\n",
    "        greet()\n",
    "\n",
    "    This would print \"Hello, World!\" to the console.\n",
    "    \n",
    "    The \"def\" keyword is followed by the function name, a set of parentheses, and a colon. The       function's code is then indented and placed inside the function's body.\n",
    "\n",
    "    Functions can also have arguments, which are values that are passed to the function when it       is called. These arguments are specified within the parentheses after the function name. For     example:\n",
    "\n",
    "        def greet(name):\n",
    "        print(\"Hello, \" + name + \"!\")\n",
    "\n",
    "    This function, named \"greet\", has a single argument named \"name\". When the function is           called, the value of the \"name\" argument is used in the function's code. For example:\n",
    "\n",
    "        greet(\"Alice\")\n",
    "\n",
    "    This would print \"Hello, Alice!\" to the console."
   ]
  },
  {
   "cell_type": "code",
   "execution_count": 3,
   "id": "49ae48c1",
   "metadata": {},
   "outputs": [
    {
     "name": "stdout",
     "output_type": "stream",
     "text": [
      "Hello, Ineuron!\n"
     ]
    }
   ],
   "source": [
    "def greet(name):\n",
    "        print(\"Hello, \" + name + \"!\")\n",
    "greet(\"Ineuron\")"
   ]
  },
  {
   "cell_type": "raw",
   "id": "824b04d2",
   "metadata": {},
   "source": [
    "Q.4. What is the difference between a function and a function call?\n",
    "\n",
    "Ans: A function is procedure to achieve a particular result. while function call is using this        function to achive that task. Using a function to do a particular task any point in program      is called as function call."
   ]
  },
  {
   "cell_type": "raw",
   "id": "31acca85",
   "metadata": {},
   "source": [
    "Q.5. How many global scopes are there in a Python program? How many local scopes?\n",
    "\n",
    "Ans: In Python, there is only one global scope per program.\n",
    "\n",
    "     The global scope is the top-level scope of a program, and it contains all the variables and      functions that are defined at the top level of the program, outside of any function or class      definition.\n",
    "\n",
    "     In Python, a local scope is created whenever a function is called. The local scope contains      all the variables and functions that are defined within the function.\n",
    "\n",
    "     A function can have its own local scope, as well as any number of nested local scopes,            depending on the number of function calls made within the function."
   ]
  },
  {
   "cell_type": "raw",
   "id": "f5798067",
   "metadata": {},
   "source": [
    "Q.6. What happens to variables in a local scope when the function call returns?\n",
    "\n",
    "Ans: When a function call returns, all the variables and functions defined within the function's      local scope are no longer accessible. They are destroyed along with the local scope."
   ]
  },
  {
   "cell_type": "raw",
   "id": "a0317c09",
   "metadata": {},
   "source": [
    "Q.7. What is the concept of a return value? Is it possible to have a return value in an                expression?\n",
    "\n",
    "Ans: A return value is the value that a function returns to the caller when it is called. A            function can return a value using the \"return\" keyword.\n",
    "\n",
    "    For example:\n",
    "\n",
    "        def add(x, y):\n",
    "        return x + y\n",
    "\n",
    "        result = add(1, 2) # result will be 3\n",
    "\n",
    "    In this example, the \"add\" function takes two arguments, \"x\" and \"y\", and returns their sum.     When the function is called with the arguments 1 and 2, it returns the value 3, which is         stored in the \"result\" variable.\n",
    "\n",
    "    It is possible to have a return value in an expression. An expression is a piece of code that     returns a value. For example:\n",
    "\n",
    "        result = add(1, 2) + 1 # result will be 4\n",
    "\n",
    "    In this example, the expression \"add(1, 2) + 1\" consists of the function call \"add(1, 2)\",       which returns the value 3, and the integer 1. The expression returns the value 4, which is       stored in the \"result\" variable.\n",
    "\n",
    "    So, a return value is the value that a function returns to the caller when it is called, and     it is possible to have a return value in an expression."
   ]
  },
  {
   "cell_type": "raw",
   "id": "c30e363f",
   "metadata": {},
   "source": [
    "Q.8. If a function does not have a return statement, what is the return value of a call to that        function?\n",
    "\n",
    "Ans: If a function in Python does not have a return statement, the return value of a call to that      function is \"None\".\n",
    "\n",
    "    \"None\" is a special constant that represents the absence of a value or a null                      value. It is an object of its own datatype, called \"NoneType\".\n",
    "\n",
    "    For example:\n",
    "\n",
    "         def greet():\n",
    "         print(\"Hello, World!\")\n",
    "\n",
    "    result = greet() # prints \"Hello, World!\" and assigns None to result\n",
    "\n",
    "    In this example, the \"greet\" function does not have a return statement, so it returns the         value \"None\" when it is called.\n",
    "\n",
    "    It is also possible to explicitly specify a return value of \"None\" by using the \"return\"         keyword followed by \"None\":\n",
    "\n",
    "         def greet():\n",
    "         print(\"Hello, World!\")\n",
    "         return None\n",
    "\n",
    "    result = greet() # prints \"Hello, World!\" and assigns None to result\n",
    "\n",
    "    In this example, the \"greet\" function has a return statement that specifies a return value of     \"None\". This means that the function will return \"None\" when it is called.\n",
    "\n",
    "    So, if a function in Python does not have a return statement, the return value of a call to       that function is \"None\". It is also possible to explicitly specify a return value of \"None\"       using the \"return\" keyword"
   ]
  },
  {
   "cell_type": "raw",
   "id": "2d15cd9a",
   "metadata": {},
   "source": [
    "Q.9. How do you make a function variable refer to the global variable?\n",
    "\n",
    "Ans: We can make a function variable refer to a global variable by using the \"global\"                  keyword in the function's local scope.\n",
    "\n",
    "     For example:\n",
    "\n",
    "         x = 1 # global variable\n",
    "\n",
    "         def increment():\n",
    "         global x\n",
    "         x = x + 1\n",
    "\n",
    "        increment() # increments the global variable x\n",
    "        print(x) # prints 2\n",
    "\n",
    "    In this example, the \"x\" variable is defined as a global variable outside of any function. It     is initialized with the value 1.\n",
    "\n",
    "    The \"increment\" function has a local variable also named \"x\". To make this local variable         refer to the global variable, the \"global\" keyword is used in the function's local scope.         This tells Python that the \"x\" variable in the function's local scope refers to the global       variable with the same name.\n",
    "\n",
    "    When the \"increment\" function is called, the local \"x\" variable is updated to the value of       the global \"x\" variable plus 1. This updates the global \"x\" variable, and the new value is       printed to the console.\n",
    "\n",
    "    So, to make a function variable refer to a global variable in Python, we can use the             \"global\" keyword in the function's local scope. This allows to access and modify the             global variable from within the function."
   ]
  },
  {
   "cell_type": "raw",
   "id": "cad19fea",
   "metadata": {},
   "source": [
    "Q.10. What is the data type of None?\n",
    "\n",
    "Ans:  \"None\" is a special constant that represents the absence of a value or a null value. It is       an object of its own datatype, called \"NoneType\".\n",
    "\n",
    "      You can check the data type of \"None\" using the \"type\" function:\n",
    "\n",
    "        result = type(None)\n",
    "        print(result) # prints \"<class 'NoneType'>\"\n",
    "\n",
    "      In this example, the \"type\" function is called with \"None\" as the argument, and it returns       the data type of \"None\", which is \"NoneType\".\n",
    "\n",
    "      You can also use the \"isinstance\" function to check if a variable is of the \"NoneType\" data       type:\n",
    "\n",
    "        x = None\n",
    "        result = isinstance(x, NoneType)\n",
    "        print(result) # prints True\n",
    "\n",
    "      In this example, the \"isinstance\" function is called with the variables \"x\" and \"NoneType\"       as arguments. It returns \"True\" if the \"x\" variable is of the \"NoneType\" data type, and           \"False\" otherwise.\n",
    "\n",
    "      So, the data type of \"None\" in Python is \"NoneType\". You can use the \"type\" or \"isinstance\"       functions to check the data type of a variable or object in Python."
   ]
  },
  {
   "cell_type": "code",
   "execution_count": 4,
   "id": "0e394290",
   "metadata": {},
   "outputs": [
    {
     "name": "stdout",
     "output_type": "stream",
     "text": [
      "<class 'NoneType'>\n"
     ]
    }
   ],
   "source": [
    "x=None\n",
    "result= type(None)\n",
    "print(result)"
   ]
  },
  {
   "cell_type": "raw",
   "id": "67e65997",
   "metadata": {},
   "source": [
    "Q.11. What does the sentence import areallyourpetsnamederic do?\n",
    "\n",
    "Ans:  The sentence \"import areallyourpetsnamederic\" is a valid Python import statement that would       import the module or package with the name \"areallyourpetsnamederic\" into the current             script or program.\n",
    "\n",
    "      The \"import\" statement is used to import modules or packages into a script or program. A         module is a Python file with a .py extension that contains definitions and statements. A         package is a collection of modules that are organized into a directory structure.\n",
    "\n",
    "      For example:\n",
    "\n",
    "          import math\n",
    "\n",
    "      This statement imports the \"math\" module, which provides mathematical functions and               constants.\n",
    "\n",
    "          import mypackage.mymodule\n",
    "\n",
    "      This statement imports the \"mymodule\" module from the \"mypackage\" package.\n",
    "\n",
    "      If the module or package with the name \"areallyourpetsnamederic\" does not exist, the import       statement will raise an \"ImportError\" exception.\n",
    "\n",
    "      So, the sentence \"import areallyourpetsnamederic\" would attempt to import the module or           package with the name \"areallyourpetsnamederic\" into the current script or program. If the       module or package does not exist, it will raise an \"ImportError\" exception."
   ]
  },
  {
   "cell_type": "raw",
   "id": "998cd600",
   "metadata": {},
   "source": [
    "Q.12. If you had a bacon() feature in a spam module, what would you call it after importing spam?\n",
    "\n",
    "Ans:  To call the \"bacon\" function from the \"spam\" module after importing it, we would use the         following syntax:\n",
    "\n",
    "          import spam\n",
    "          spam.bacon()\n",
    "\n",
    "      This would import the \"spam\" module and call the \"bacon\" function from the module.\n",
    "\n",
    "      Alternatively, we can use the \"from\" keyword to import the \"bacon\" function directly:\n",
    "\n",
    "          from spam import bacon\n",
    "          bacon()\n",
    "\n",
    "      This would import the \"bacon\" function from the \"spam\" module and allow you to call it           directly using the function name.\n",
    "\n",
    "      In either case, the \"bacon\" function can be called after importing the \"spam\" module."
   ]
  },
  {
   "cell_type": "raw",
   "id": "34cc92cb",
   "metadata": {},
   "source": [
    "Q.13. What can you do to save a programme from crashing if it encounters an error?\n",
    "\n",
    "Ans:  There are several ways to save a program from crashing if it encounters an error:\n",
    "\n",
    "      Use try-except blocks: A try-except block allows to catch and handle exceptions that             may occur in our code. This can prevent the program from crashing when it encounters an           error.\n",
    "\n",
    "      Validate user input: we can validate user input to ensure that it is of the correct type         and meets certain criteria. This can prevent errors from occurring due to invalid input.\n",
    "\n",
    "      Use defensive programming techniques: Defensive programming involves writing code that           anticipates and handles potential errors or problems that may arise. This can help prevent       the program from crashing when it encounters unexpected input or conditions.\n",
    "\n",
    "      Use assertions: Assertions are checks that are inserted into our code to ensure that             certain conditions are met. If an assertion fails, it will raise an \"AssertionError\"             exception, which can be handled using a try-except block.\n",
    "\n",
    "      Use logging: we can use logging to record information about the program's execution and           any errors that may occur. This can help us identify and debug errors that cause the             program to crash.\n",
    "\n",
    "      By using these techniques, we can save a program from crashing when it encounters an error       and improve its reliability and stability."
   ]
  },
  {
   "cell_type": "raw",
   "id": "ca53858b",
   "metadata": {},
   "source": [
    "Q.14. What is the purpose of the try clause? What is the purpose of the except clause?\n",
    "\n",
    "Ans:  The 'try' clause is used to specify a block of code to be tested for errors. The 'except'         clause is used to specify a block of code to be executed if an error occurs during the           execution of the 'try' block.\n",
    "\n",
    "      For example:\n",
    "             try:\n",
    "        //some code here\n",
    "        result = 10 / 0\n",
    "        except ZeroDivisionError:\n",
    "        print(\"Division by zero!\"\n",
    "        \n",
    "     In this example, the 'try' block contains a division by zero error, which will raise a            'ZeroDivisionError' exception. The 'except' clause will catch this exception and print an        error message.\n",
    "\n",
    "     The purpose of the 'try' clause is to allow you to test a block of code for errors, and the      purpose of the 'except' clause is to handle any errors that are raised during the                execution of the 'try' block.   "
   ]
  },
  {
   "cell_type": "code",
   "execution_count": 13,
   "id": "b456e276",
   "metadata": {},
   "outputs": [
    {
     "name": "stdout",
     "output_type": "stream",
     "text": [
      "5.0\n",
      "Division by zero!\n",
      "None\n"
     ]
    }
   ],
   "source": [
    "def divide(a, b):\n",
    "    try:\n",
    "        result = a / b\n",
    "    except ZeroDivisionError:\n",
    "        print(\"Division by zero!\")\n",
    "        result = None\n",
    "    return result\n",
    "\n",
    "print(divide(10, 2))  # Output: 5.0\n",
    "print(divide(10, 0))  # Output: Division by zero!"
   ]
  },
  {
   "cell_type": "code",
   "execution_count": null,
   "id": "86c487f5",
   "metadata": {},
   "outputs": [],
   "source": []
  }
 ],
 "metadata": {
  "kernelspec": {
   "display_name": "Python 3 (ipykernel)",
   "language": "python",
   "name": "python3"
  },
  "language_info": {
   "codemirror_mode": {
    "name": "ipython",
    "version": 3
   },
   "file_extension": ".py",
   "mimetype": "text/x-python",
   "name": "python",
   "nbconvert_exporter": "python",
   "pygments_lexer": "ipython3",
   "version": "3.9.12"
  }
 },
 "nbformat": 4,
 "nbformat_minor": 5
}
